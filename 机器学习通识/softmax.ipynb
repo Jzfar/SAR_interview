{
 "cells": [
  {
   "cell_type": "markdown",
   "metadata": {},
   "source": [
    "介绍softmax：\n",
    "softmax能将一组实数转为概率分布，常作为激活函数将模型输出的各类的预测值转为各类别的概率。\n",
    "\n",
    "上溢出：\n",
    "因为softmax涉及指数运算，如果输入值过大可能其指数超过浮点的表示范围\n",
    "\n",
    "下溢出：\n",
    "如果输入值是绝对值很大的负数，其指数会接近零，影响后续的对数运算。\n",
    "解决方法：\n",
    "1. 对输入向量平移，减去其中最大值，避免上溢出。相当于softmax函数分子分母同时除以某个值，不影响计算结果。\n",
    "2. 合并softmax和交叉熵的计算。对数函数输入的不是softmax后的概率值，而是softmax的表达式，这样利用对数运算将原来的分子分母的除法转为减法关系，避免出现概率值为零直接作为对数函数的输入。比如tensorflow中的交叉熵softmax_cross_entropy_with_logits输入是模型输出的logits，不需要自己手动加一层softmax"
   ]
  },
  {
   "cell_type": "code",
   "execution_count": null,
   "metadata": {},
   "outputs": [],
   "source": []
  }
 ],
 "metadata": {
  "language_info": {
   "name": "python"
  }
 },
 "nbformat": 4,
 "nbformat_minor": 2
}
