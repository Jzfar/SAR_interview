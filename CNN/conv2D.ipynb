{
 "cells": [
  {
   "cell_type": "code",
   "execution_count": 1,
   "metadata": {},
   "outputs": [
    {
     "name": "stderr",
     "output_type": "stream",
     "text": [
      "2025-01-13 15:24:51.441098: I tensorflow/core/platform/cpu_feature_guard.cc:210] This TensorFlow binary is optimized to use available CPU instructions in performance-critical operations.\n",
      "To enable the following instructions: AVX2 FMA, in other operations, rebuild TensorFlow with the appropriate compiler flags.\n"
     ]
    }
   ],
   "source": [
    "import tensorflow as tf"
   ]
  },
  {
   "cell_type": "code",
   "execution_count": 14,
   "metadata": {},
   "outputs": [],
   "source": [
    "input_channels, output_channels = 3, 8\n",
    "W, H = 24, 48\n",
    "kernel_sizes = [3,3]"
   ]
  },
  {
   "cell_type": "code",
   "execution_count": 15,
   "metadata": {},
   "outputs": [],
   "source": [
    "input = tf.random.normal([H, W, input_channels])\n",
    "kernel = tf.random.normal(kernel_sizes+[input_channels, output_channels])\n",
    "bias = tf.random.normal([output_channels])"
   ]
  },
  {
   "cell_type": "code",
   "execution_count": null,
   "metadata": {},
   "outputs": [
    {
     "data": {
      "text/plain": [
       "<tf.Tensor: shape=(48, 24, 8), dtype=float32, numpy=\n",
       "array([[[ 3.29064131e+00,  4.04826593e+00,  1.71673775e+00, ...,\n",
       "         -2.31825566e+00,  1.84074986e+00,  1.14289749e+00],\n",
       "        [ 1.23725758e+01, -9.91231441e-01,  4.81099606e+00, ...,\n",
       "         -3.34339714e+00,  1.12385607e+01,  8.60099125e+00],\n",
       "        [ 1.10461988e+01,  1.59300137e+00,  5.64303303e+00, ...,\n",
       "         -3.35363412e+00,  5.93191481e+00,  5.28215218e+00],\n",
       "        ...,\n",
       "        [ 3.04481936e+00,  2.78588367e+00,  3.06177974e+00, ...,\n",
       "         -3.08427954e+00,  3.38887572e-01,  3.71340156e+00],\n",
       "        [ 4.29789114e+00,  2.93016052e+00,  5.23214722e+00, ...,\n",
       "         -6.77662849e+00, -6.30140638e+00, -4.72761011e+00],\n",
       "        [-7.19560027e-01, -6.79451799e+00, -4.07802916e+00, ...,\n",
       "         -1.07289639e+01,  1.44882953e+00, -4.47280359e+00]],\n",
       "\n",
       "       [[ 2.43757391e+00,  4.37989521e+00,  6.89842224e+00, ...,\n",
       "         -2.80651331e+00,  4.12292671e+00,  2.71082568e+00],\n",
       "        [ 6.53147697e-03, -3.53776574e+00,  8.35715294e+00, ...,\n",
       "         -3.83919692e+00, -3.35575676e+00, -1.04265184e+01],\n",
       "        [-7.99412107e+00, -9.56848526e+00, -1.26148415e+00, ...,\n",
       "         -1.05378494e+01, -4.96555424e+00, -5.83893824e+00],\n",
       "        ...,\n",
       "        [ 7.39919281e+00, -1.05299473e+01, -1.58306646e+00, ...,\n",
       "         -4.44188881e+00,  4.23417711e+00,  5.10568237e+00],\n",
       "        [-4.42336130e+00, -4.60671425e+00,  2.95377398e+00, ...,\n",
       "         -7.90100455e-01, -3.99009800e+00, -4.92400646e+00],\n",
       "        [-2.11496019e+00,  2.21132946e+00,  1.32740784e+00, ...,\n",
       "          1.36602187e+00, -3.32927036e+00, -6.12937403e+00]],\n",
       "\n",
       "       [[-3.89571047e+00, -6.28311110e+00,  3.15889120e+00, ...,\n",
       "         -3.55754542e+00, -5.07311344e+00, -6.81110191e+00],\n",
       "        [-5.48885822e+00, -1.39973240e+01,  4.97111702e+00, ...,\n",
       "         -2.26761770e+00, -6.91771793e+00, -6.12740707e+00],\n",
       "        [ 4.53754091e+00,  1.31642675e+00,  3.56394053e+00, ...,\n",
       "         -9.72716212e-01, -2.88474417e+00,  3.20816016e+00],\n",
       "        ...,\n",
       "        [-1.03673899e+00, -7.47625685e+00,  9.32042217e+00, ...,\n",
       "          4.18837309e-01,  2.80179501e+00, -2.42333388e+00],\n",
       "        [ 5.45976496e+00,  5.09017134e+00, -1.33764887e+00, ...,\n",
       "         -1.93324029e+00, -7.51976490e+00,  1.69116020e+00],\n",
       "        [ 9.92306137e+00,  2.61019397e+00,  2.28196800e-01, ...,\n",
       "         -7.64676380e+00,  3.84840775e+00,  9.77779961e+00]],\n",
       "\n",
       "       ...,\n",
       "\n",
       "       [[-2.99390364e+00, -7.78193426e+00,  2.00197959e+00, ...,\n",
       "         -5.79980659e+00,  3.90714455e+00, -6.17429793e-01],\n",
       "        [ 2.87481451e+00,  6.76818466e+00, -9.48721886e-01, ...,\n",
       "         -4.19867563e+00, -1.08921995e+01, -4.93630457e+00],\n",
       "        [ 2.45418596e+00, -1.87431204e+00,  2.68798828e+00, ...,\n",
       "         -2.78821683e+00, -1.50148118e+00,  8.82577324e+00],\n",
       "        ...,\n",
       "        [-6.98374701e+00, -2.38027191e+00,  9.14791870e+00, ...,\n",
       "          6.34017706e-01, -7.58989429e+00, -1.05970602e+01],\n",
       "        [-9.29217052e+00, -1.20402470e+01, -4.39229536e+00, ...,\n",
       "         -8.47111034e+00, -5.67903614e+00, -1.57638955e+00],\n",
       "        [ 1.81575954e+00,  7.32083654e+00,  1.71735644e+00, ...,\n",
       "         -6.99516773e+00, -6.80266142e-01,  5.02136052e-01]],\n",
       "\n",
       "       [[-4.13018608e+00,  8.65124941e-01,  1.69613159e+00, ...,\n",
       "         -8.11467290e-01, -2.67333508e+00,  2.91966140e-01],\n",
       "        [ 1.11374445e+01, -4.49053431e+00, -1.09179287e+01, ...,\n",
       "         -4.11392307e+00, -1.69227779e+00,  6.81584883e+00],\n",
       "        [-6.49776125e+00, -1.28109589e+01,  9.67735767e+00, ...,\n",
       "          5.60678768e+00,  6.52159548e+00, -3.44083214e+00],\n",
       "        ...,\n",
       "        [-1.00176497e+01, -1.04722347e+01, -3.43268204e+00, ...,\n",
       "         -6.94940662e+00, -8.92287636e+00, -6.13219976e+00],\n",
       "        [ 4.01836967e+00, -7.32547283e+00, -4.28992939e+00, ...,\n",
       "         -8.72915506e-01,  5.32414389e+00,  3.93944716e+00],\n",
       "        [-6.17805147e+00, -3.62973928e+00,  5.75464249e-01, ...,\n",
       "         -2.37650466e+00, -1.23301589e+00,  3.58123708e+00]],\n",
       "\n",
       "       [[-2.11952257e+00, -5.08368063e+00, -2.08660603e+00, ...,\n",
       "         -1.05023260e+01,  1.15286169e+01,  6.77740431e+00],\n",
       "        [ 6.25697327e+00,  6.60153627e-02,  3.72870731e+00, ...,\n",
       "          5.34777451e+00,  3.71011209e+00, -3.35828495e+00],\n",
       "        [-4.32286692e+00, -1.09389687e+01,  1.31990612e+00, ...,\n",
       "         -4.10310173e+00,  2.63067627e+00, -4.03906703e-02],\n",
       "        ...,\n",
       "        [ 2.51104403e+00, -3.22282910e+00,  1.15492940e-01, ...,\n",
       "         -6.90135956e-02,  3.60456228e+00, -7.34692872e-01],\n",
       "        [-4.30941772e+00, -6.44934750e+00,  8.32820988e+00, ...,\n",
       "          3.60246301e+00,  1.13098252e+00, -1.81680274e+00],\n",
       "        [ 4.01994658e+00, -4.17298222e+00, -2.67877483e+00, ...,\n",
       "         -4.50150633e+00,  2.63931942e+00, -2.53990364e+00]]],\n",
       "      dtype=float32)>"
      ]
     },
     "execution_count": 23,
     "metadata": {},
     "output_type": "execute_result"
    }
   ],
   "source": [
    "def maual_conv2D(inputs, kernel, bias, stride=1, padding='valid'):\n",
    "    input_h, input_w, input_channels= inputs.shape\n",
    "    kernel_h, kernel_w, _, output_channels = kernel.shape\n",
    "    if padding == 'valid':\n",
    "        output_h = (input_h - kernel_h) // stride + 1\n",
    "        output_w = (input_w - kernel_w) // stride + 1\n",
    "    elif padding == 'same':\n",
    "        output_h = input_h\n",
    "        output_w = input_w\n",
    "        pad_height = ((input_h - 1) * stride + kernel_h -input_h) // 2\n",
    "        pad_width = ((input_w - 1) * stride + kernel_w - input_w) // 2 \n",
    "        inputs = tf.pad(inputs, [[pad_height, pad_height],[pad_width, pad_width], [0,0]])\n",
    "    output = tf.zeros([input_h, input_w, output_channels])\n",
    "\n",
    "    for i in range(output_h):\n",
    "        for j in range(output_w):\n",
    "            for k in range(output_channels):\n",
    "                input_slice = inputs[i*stride:i*stride+kernel_h, j*stride:j*stride+kernel_w, :]\n",
    "                # 每个位置、每个通道输出的值是感受野内的输入（kernel_size * kernel_size * input_channels)和kernel的哈达玛积的sum + 对应通道的bias\n",
    "                # 复杂度为 kernel_size * kernel_size * input_channels\n",
    "                output = tf.tensor_scatter_nd_add(output, [[i,j,k]], [tf.reduce_sum(tf.multiply(input_slice, kernel[:,:,:,k])) + bias[k]])\n",
    "    return output\n",
    "maual_conv2D(inputs=input, kernel=kernel, bias=bias, padding='same')\n",
    "\n"
   ]
  }
 ],
 "metadata": {
  "kernelspec": {
   "display_name": "Python 3",
   "language": "python",
   "name": "python3"
  },
  "language_info": {
   "codemirror_mode": {
    "name": "ipython",
    "version": 3
   },
   "file_extension": ".py",
   "mimetype": "text/x-python",
   "name": "python",
   "nbconvert_exporter": "python",
   "pygments_lexer": "ipython3",
   "version": "3.12.6"
  }
 },
 "nbformat": 4,
 "nbformat_minor": 2
}
