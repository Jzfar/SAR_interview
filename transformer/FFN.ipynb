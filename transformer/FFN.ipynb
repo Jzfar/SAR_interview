{
 "cells": [
  {
   "cell_type": "code",
   "execution_count": 1,
   "metadata": {},
   "outputs": [
    {
     "name": "stderr",
     "output_type": "stream",
     "text": [
      "2025-01-10 10:39:37.521256: I tensorflow/core/platform/cpu_feature_guard.cc:210] This TensorFlow binary is optimized to use available CPU instructions in performance-critical operations.\n",
      "To enable the following instructions: AVX2 FMA, in other operations, rebuild TensorFlow with the appropriate compiler flags.\n"
     ]
    }
   ],
   "source": [
    "import tensorflow as tf"
   ]
  },
  {
   "cell_type": "markdown",
   "metadata": {},
   "source": [
    "FFN: Point-wise Feed-Forward Networks\n",
    "Point-wise指的是FFN逐词对token做变换，即便实现上没有给每个token各自保留一份FFN\n",
    "FFN实现上是以词矩阵为输入，而不是词向量，下面比较两者在计算上是否完全等价\n",
    "FFN和attention的关系：attention捕捉token之间的关系，侧重全局关系；FFN独立对每个token变换，侧重局部关系。互为补充\n",
    "FFN的权重在token之间共享：参数效率和泛化"
   ]
  },
  {
   "cell_type": "code",
   "execution_count": 31,
   "metadata": {},
   "outputs": [
    {
     "data": {
      "text/plain": [
       "<tf.Tensor: shape=(), dtype=bool, numpy=True>"
      ]
     },
     "execution_count": 31,
     "metadata": {},
     "output_type": "execute_result"
    }
   ],
   "source": [
    "X = tf.constant(1, shape=[10,8], dtype=tf.int32)\n",
    "W = tf.random.uniform(shape=[8,12], minval=0, maxval=2, dtype=tf.int32)\n",
    "def whole_FFN(X, W):\n",
    "    return tf.nn.relu(tf.matmul(X, W))\n",
    "def individual_FFN(X, W):\n",
    "    # X [10,8]\n",
    "    x_list = tf.unstack(X, axis=0) # 10 * [8]\n",
    "    x_list = [tf.expand_dims(x, axis=0) for x in x_list] # 10 * [1, 8]\n",
    "    splited_output = [tf.nn.relu(tf.matmul(x, W)) for x in x_list] \n",
    "    # list中的元素是[1, dim]，如果是直接stack，结果是[n, 1, dim]，而非[n, dim]\n",
    "    concated_output = tf.stack(splited_output, axis=0) # [10, 1, 8]\n",
    "    shaped_output = tf.squeeze(concated_output, axis=1) # [10, 8]\n",
    "    return shaped_output\n",
    "tf.reduce_all( ( whole_FFN(X, W) == individual_FFN(X, W))) # true为完全相同"
   ]
  },
  {
   "cell_type": "code",
   "execution_count": 32,
   "metadata": {},
   "outputs": [
    {
     "data": {
      "text/plain": [
       "<tf.Tensor: shape=(), dtype=bool, numpy=True>"
      ]
     },
     "execution_count": 32,
     "metadata": {},
     "output_type": "execute_result"
    }
   ],
   "source": [
    "X = tf.random.normal(shape=[2, 2])\n",
    "W = tf.random.normal(shape=[2, 2])\n",
    "tf.reduce_all( ( whole_FFN(X, W) == individual_FFN(X, W))) # true为完全相同"
   ]
  },
  {
   "cell_type": "code",
   "execution_count": 33,
   "metadata": {},
   "outputs": [],
   "source": [
    "from tensorflow.keras.layers import Layer, Dense"
   ]
  },
  {
   "cell_type": "code",
   "execution_count": 38,
   "metadata": {},
   "outputs": [],
   "source": [
    "class FFN(Layer):\n",
    "    def __init__(self, d_model, dff):\n",
    "        super(FFN, self).__init__()\n",
    "        self.w1 = Dense(dff, activation=\"relu\")\n",
    "        self.w2 = Dense(d_model)\n",
    "    def call(self, X):\n",
    "        return self.w2(self.w1(X))"
   ]
  },
  {
   "cell_type": "code",
   "execution_count": 39,
   "metadata": {},
   "outputs": [
    {
     "data": {
      "text/plain": [
       "<tf.Tensor: shape=(10, 512), dtype=float32, numpy=\n",
       "array([[ 0.58470833, -0.28071082,  0.33368957, ..., -0.48978215,\n",
       "        -0.47320676,  0.78683853],\n",
       "       [-0.25092518, -0.38057712, -0.39177847, ..., -0.458938  ,\n",
       "        -0.9278326 , -0.3361459 ],\n",
       "       [-0.55137634,  0.27648982, -0.2708023 , ..., -0.13214004,\n",
       "        -0.6609394 ,  0.5344621 ],\n",
       "       ...,\n",
       "       [-0.5541176 ,  0.24510771, -0.18587717, ..., -0.80350685,\n",
       "        -0.42426658,  0.6435993 ],\n",
       "       [ 0.21257944, -0.60036874, -0.17853856, ..., -0.23341371,\n",
       "         0.28404212,  0.13091493],\n",
       "       [ 0.67460966, -0.41883776, -0.27480543, ..., -0.3294828 ,\n",
       "        -0.11506021,  0.4455172 ]], dtype=float32)>"
      ]
     },
     "execution_count": 39,
     "metadata": {},
     "output_type": "execute_result"
    }
   ],
   "source": [
    "X = tf.random.normal([10,512])\n",
    "d_model = 512\n",
    "dff = 2048\n",
    "ffn = FFN(512, 2048)\n",
    "ffn(X)"
   ]
  }
 ],
 "metadata": {
  "kernelspec": {
   "display_name": "Python 3",
   "language": "python",
   "name": "python3"
  },
  "language_info": {
   "codemirror_mode": {
    "name": "ipython",
    "version": 3
   },
   "file_extension": ".py",
   "mimetype": "text/x-python",
   "name": "python",
   "nbconvert_exporter": "python",
   "pygments_lexer": "ipython3",
   "version": "3.12.6"
  }
 },
 "nbformat": 4,
 "nbformat_minor": 2
}
